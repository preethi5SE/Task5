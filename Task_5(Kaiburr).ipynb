{
  "cells": [
    {
      "cell_type": "code",
      "source": [
        "import pandas as pd\n",
        "import numpy as np\n",
        "import seaborn as sns\n",
        "import matplotlib.pyplot as plt\n",
        "import nltk\n",
        "from sklearn.model_selection import train_test_split\n",
        "from sklearn.preprocessing import StandardScaler\n",
        "from sklearn.metrics import accuracy_score\n",
        "import tensorflow as tf"
      ],
      "metadata": {
        "id": "SvHnGJ5sA0CX"
      },
      "execution_count": 3,
      "outputs": []
    },
    {
      "cell_type": "code",
      "source": [
        "from google.colab import drive\n",
        "drive.mount('/content/drive')"
      ],
      "metadata": {
        "colab": {
          "base_uri": "https://localhost:8080/"
        },
        "id": "FOeEprqtCpK1",
        "outputId": "f29bc05a-db84-46b0-a047-237196d2ac4e"
      },
      "execution_count": 4,
      "outputs": [
        {
          "output_type": "stream",
          "name": "stdout",
          "text": [
            "Mounted at /content/drive\n"
          ]
        }
      ]
    },
    {
      "cell_type": "code",
      "source": [
        "\n",
        "# Loading dataset\n",
        "df = pd.read_csv(\"/content/drive/MyDrive/complaint.csv\")\n",
        "\n",
        "# Displaying first few rows\n",
        "print(df.head())\n",
        "\n",
        "# Checking for missing values\n",
        "print(df.isnull().sum())"
      ],
      "metadata": {
        "colab": {
          "base_uri": "https://localhost:8080/"
        },
        "id": "Bc35q9QUCz2v",
        "outputId": "68343704-1c43-42ad-80d8-92aabcfb5c7f"
      },
      "execution_count": 5,
      "outputs": [
        {
          "output_type": "stream",
          "name": "stderr",
          "text": [
            "<ipython-input-5-eb580ef3e0ad>:2: DtypeWarning: Columns (16) have mixed types. Specify dtype option on import or set low_memory=False.\n",
            "  df = pd.read_csv(\"/content/drive/MyDrive/complaint.csv\")\n"
          ]
        },
        {
          "output_type": "stream",
          "name": "stdout",
          "text": [
            "  Date received                                            Product  \\\n",
            "0    29-01-2025  Credit reporting or other personal consumer re...   \n",
            "1    31-01-2025  Credit reporting or other personal consumer re...   \n",
            "2    30-01-2025  Credit reporting or other personal consumer re...   \n",
            "3    29-01-2025  Payday loan, title loan, personal loan, or adv...   \n",
            "4    28-01-2025                                           Mortgage   \n",
            "\n",
            "                  Sub-product  \\\n",
            "0            Credit reporting   \n",
            "1            Credit reporting   \n",
            "2            Credit reporting   \n",
            "3            Installment loan   \n",
            "4  Conventional home mortgage   \n",
            "\n",
            "                                               Issue  \\\n",
            "0               Incorrect information on your report   \n",
            "1               Incorrect information on your report   \n",
            "2                        Improper use of your report   \n",
            "3                       Problem when making payments   \n",
            "4  Applying for a mortgage or refinancing an exis...   \n",
            "\n",
            "                                           Sub-issue  \\\n",
            "0                           Account status incorrect   \n",
            "1                      Account information incorrect   \n",
            "2      Reporting company used your report improperly   \n",
            "3                                                NaN   \n",
            "4  Trying to communicate with the company to fix ...   \n",
            "\n",
            "  Consumer complaint narrative Company public response  \\\n",
            "0                          NaN                     NaN   \n",
            "1                          NaN                     NaN   \n",
            "2                          NaN                     NaN   \n",
            "3                          NaN                     NaN   \n",
            "4                          NaN                     NaN   \n",
            "\n",
            "                                  Company State ZIP code Tags  \\\n",
            "0     Experian Information Solutions Inc.    NY    12543  NaN   \n",
            "1  TRANSUNION INTERMEDIATE HOLDINGS, INC.    OH    43207  NaN   \n",
            "2     Experian Information Solutions Inc.    NV    89148  NaN   \n",
            "3              TD BANK US HOLDING COMPANY    FL    33055  NaN   \n",
            "4                      NEXA Mortgage, LLC    CA    95370  NaN   \n",
            "\n",
            "  Consumer consent provided? Submitted via Date sent to company  \\\n",
            "0                        NaN           Web           29-01-2025   \n",
            "1                        NaN           Web           31-01-2025   \n",
            "2                        NaN           Web           30-01-2025   \n",
            "3                        NaN         Phone           04-02-2025   \n",
            "4                        NaN         Phone           06-02-2025   \n",
            "\n",
            "  Company response to consumer Timely response? Consumer disputed?  \\\n",
            "0                  In progress              Yes                NaN   \n",
            "1                  In progress              Yes                NaN   \n",
            "2                  In progress              Yes                NaN   \n",
            "3                  In progress              Yes                NaN   \n",
            "4                  In progress              Yes                NaN   \n",
            "\n",
            "   Complaint ID  \n",
            "0      11825440  \n",
            "1      11844238  \n",
            "2      11844247  \n",
            "3      11824206  \n",
            "4      11805339  \n",
            "Date received                         0\n",
            "Product                               0\n",
            "Sub-product                         874\n",
            "Issue                                 0\n",
            "Sub-issue                         59937\n",
            "Consumer complaint narrative     914514\n",
            "Company public response          733070\n",
            "Company                               0\n",
            "State                              2325\n",
            "ZIP code                             29\n",
            "Tags                            1008577\n",
            "Consumer consent provided?       608091\n",
            "Submitted via                         0\n",
            "Date sent to company                  0\n",
            "Company response to consumer          0\n",
            "Timely response?                      0\n",
            "Consumer disputed?              1046258\n",
            "Complaint ID                          0\n",
            "dtype: int64\n"
          ]
        }
      ]
    },
    {
      "cell_type": "code",
      "source": [
        "# Selecting only relevant columns\n",
        "df = df[['Consumer complaint narrative', 'Product']].dropna()\n",
        "\n",
        "# Renaming columns\n",
        "df.columns = ['complaint', 'category']\n",
        "\n",
        "# Mapping categories to numerical labels\n",
        "category_mapping = {\n",
        "    \"Credit reporting, repair, or other\": 0,\n",
        "    \"Debt collection\": 1,\n",
        "    \"Consumer Loan\": 2,\n",
        "    \"Mortgage\": 3\n",
        "}\n",
        "df = df[df['category'].isin(category_mapping.keys())]  # Filter required categories\n",
        "df['label'] = df['category'].map(category_mapping)\n",
        "\n",
        "# Checking distribution of categories\n",
        "sns.countplot(x=df['label'])\n",
        "plt.title(\"Category Distribution\")\n",
        "plt.show()\n"
      ],
      "metadata": {
        "colab": {
          "base_uri": "https://localhost:8080/",
          "height": 472
        },
        "id": "jctiAJNKC-rW",
        "outputId": "0c14c532-80e1-44fc-8fc4-71074068fdbd"
      },
      "execution_count": 6,
      "outputs": [
        {
          "output_type": "display_data",
          "data": {
            "text/plain": [
              "<Figure size 640x480 with 1 Axes>"
            ],
            "image/png": "[encoded data removed]"
          },
          "metadata": {}
        }
      ]
    },
    {
      "cell_type": "code",
      "source": [
        "import nltk\n",
        "nltk.download('punkt_tab')"
      ],
      "metadata": {
        "colab": {
          "base_uri": "https://localhost:8080/"
        },
        "id": "CaseCLf3DDbJ",
        "outputId": "2175fad0-8817-43fc-904f-707505bb72d1"
      },
      "execution_count": 7,
      "outputs": [
        {
          "output_type": "stream",
          "name": "stderr",
          "text": [
            "[nltk_data] Downloading package punkt_tab to /root/nltk_data...\n",
            "[nltk_data]   Package punkt_tab is already up-to-date!\n"
          ]
        },
        {
          "output_type": "execute_result",
          "data": {
            "text/plain": [
              "True"
            ]
          },
          "metadata": {},
          "execution_count": 7
        }
      ]
    },
    {
      "cell_type": "code",
      "source": [
        "import nltk\n",
        "from nltk.corpus import stopwords\n",
        "from nltk.tokenize import word_tokenize\n",
        "import re\n",
        "import string\n",
        "\n",
        "nltk.download('stopwords')\n",
        "nltk.download('punkt')\n",
        "\n",
        "stop_words = set(stopwords.words('english'))\n",
        "\n",
        "def preprocess_text(text):\n",
        "    text = text.lower()\n",
        "    text = re.sub(r'\\d+', '', text)\n",
        "    text = text.translate(str.maketrans(\"\", \"\", string.punctuation))\n",
        "    words = word_tokenize(text)\n",
        "    words = [word for word in words if word not in stop_words]  # Removing stopwords\n",
        "    return \" \".join(words)\n",
        "\n",
        "# Applying text preprocessing\n",
        "df['clean_complaint'] = df['complaint'].apply(preprocess_text)\n",
        "print(df.head())\n"
      ],
      "metadata": {
        "colab": {
          "base_uri": "https://localhost:8080/"
        },
        "id": "j5Po6GbWezAO",
        "outputId": "a6a705aa-3c63-4f34-c2d7-80ebe2a1b787"
      },
      "execution_count": 8,
      "outputs": [
        {
          "output_type": "stream",
          "name": "stderr",
          "text": [
            "[nltk_data] Downloading package stopwords to /root/nltk_data...\n",
            "[nltk_data]   Package stopwords is already up-to-date!\n",
            "[nltk_data] Downloading package punkt to /root/nltk_data...\n",
            "[nltk_data]   Package punkt is already up-to-date!\n"
          ]
        },
        {
          "output_type": "stream",
          "name": "stdout",
          "text": [
            "                                             complaint         category  \\\n",
            "310  I want to stress that I did not give written p...  Debt collection   \n",
            "323  I want to stress that I did not give written p...  Debt collection   \n",
            "576  On XX/XX/year>, I recieved a phone call from p...  Debt collection   \n",
            "577  2023 portfolio recovery petitioned XXXX XXXX A...  Debt collection   \n",
            "637  Fix my credit now or face legal action! I've t...  Debt collection   \n",
            "\n",
            "     label                                    clean_complaint  \n",
            "310      1  want stress give written permission specific t...  \n",
            "323      1  want stress give written permission specific t...  \n",
            "576      1  xxxxyear recieved phone call portfolio recover...  \n",
            "577      1  portfolio recovery petitioned xxxx xxxx al xxx...  \n",
            "637      1  fix credit face legal action ive told multiple...  \n"
          ]
        }
      ]
    },
    {
      "cell_type": "code",
      "source": [
        "from sklearn.feature_extraction.text import TfidfVectorizer\n",
        "\n",
        "# Converting text to TF-IDF vectors\n",
        "vectorizer = TfidfVectorizer(max_features=5000)\n",
        "X = vectorizer.fit_transform(df['clean_complaint'])\n",
        "\n",
        "# Labels\n",
        "y = df['label']\n",
        "from sklearn.model_selection import train_test_split\n",
        "\n",
        "X_train, X_test, y_train, y_test = train_test_split(X, y, test_size=0.2, random_state=42, stratify=y)\n"
      ],
      "metadata": {
        "id": "jYA_S1KQfTuh"
      },
      "execution_count": 9,
      "outputs": []
    },
    {
      "cell_type": "code",
      "source": [
        "from sklearn.linear_model import LogisticRegression\n",
        "from sklearn.ensemble import RandomForestClassifier\n",
        "from sklearn.naive_bayes import MultinomialNB\n",
        "from sklearn.svm import SVC\n",
        "from sklearn.metrics import accuracy_score, classification_report\n",
        "\n",
        "# Defining models\n",
        "models = {\n",
        "    \"Logistic Regression\": LogisticRegression(),\n",
        "    \"Random Forest\": RandomForestClassifier(),\n",
        "    \"Naïve Bayes\": MultinomialNB(),\n",
        "    \"SVM\": SVC()\n",
        "}\n",
        "\n",
        "# Training and Evaluating Models\n",
        "for name, model in models.items():\n",
        "    model.fit(X_train, y_train)\n",
        "    y_pred = model.predict(X_test)\n",
        "    print(f\"\\nModel: {name}\")\n",
        "    print(\"Accuracy:\", accuracy_score(y_test, y_pred))\n",
        "    print(classification_report(y_test, y_pred))\n"
      ],
      "metadata": {
        "colab": {
          "base_uri": "https://localhost:8080/"
        },
        "id": "Yr-Bq8qafZDq",
        "outputId": "81a7ace5-4c26-4be1-bf7c-2d881a903f14"
      },
      "execution_count": 10,
      "outputs": [
        {
          "output_type": "stream",
          "name": "stdout",
          "text": [
            "\n",
            "Model: Logistic Regression\n",
            "Accuracy: 0.9721955896452541\n",
            "              precision    recall  f1-score   support\n",
            "\n",
            "           1       0.98      0.99      0.98      1723\n",
            "           2       0.00      0.00      0.00         2\n",
            "           3       0.94      0.90      0.92       361\n",
            "\n",
            "    accuracy                           0.97      2086\n",
            "   macro avg       0.64      0.63      0.63      2086\n",
            "weighted avg       0.97      0.97      0.97      2086\n",
            "\n"
          ]
        },
        {
          "output_type": "stream",
          "name": "stderr",
          "text": [
            "/usr/local/lib/python3.11/dist-packages/sklearn/metrics/_classification.py:1565: UndefinedMetricWarning: Precision is ill-defined and being set to 0.0 in labels with no predicted samples. Use `zero_division` parameter to control this behavior.\n",
            "  _warn_prf(average, modifier, f\"{metric.capitalize()} is\", len(result))\n",
            "/usr/local/lib/python3.11/dist-packages/sklearn/metrics/_classification.py:1565: UndefinedMetricWarning: Precision is ill-defined and being set to 0.0 in labels with no predicted samples. Use `zero_division` parameter to control this behavior.\n",
            "  _warn_prf(average, modifier, f\"{metric.capitalize()} is\", len(result))\n",
            "/usr/local/lib/python3.11/dist-packages/sklearn/metrics/_classification.py:1565: UndefinedMetricWarning: Precision is ill-defined and being set to 0.0 in labels with no predicted samples. Use `zero_division` parameter to control this behavior.\n",
            "  _warn_prf(average, modifier, f\"{metric.capitalize()} is\", len(result))\n"
          ]
        },
        {
          "output_type": "stream",
          "name": "stdout",
          "text": [
            "\n",
            "Model: Random Forest\n",
            "Accuracy: 0.9745925215723873\n",
            "              precision    recall  f1-score   support\n",
            "\n",
            "           1       0.98      0.99      0.98      1723\n",
            "           2       0.00      0.00      0.00         2\n",
            "           3       0.96      0.90      0.93       361\n",
            "\n",
            "    accuracy                           0.97      2086\n",
            "   macro avg       0.64      0.63      0.64      2086\n",
            "weighted avg       0.97      0.97      0.97      2086\n",
            "\n",
            "\n",
            "Model: Naïve Bayes\n",
            "Accuracy: 0.9645254074784276\n",
            "              precision    recall  f1-score   support\n",
            "\n",
            "           1       0.99      0.97      0.98      1723\n",
            "           2       0.00      0.00      0.00         2\n",
            "           3       0.87      0.94      0.90       361\n",
            "\n",
            "    accuracy                           0.96      2086\n",
            "   macro avg       0.62      0.64      0.63      2086\n",
            "weighted avg       0.97      0.96      0.96      2086\n",
            "\n"
          ]
        },
        {
          "output_type": "stream",
          "name": "stderr",
          "text": [
            "/usr/local/lib/python3.11/dist-packages/sklearn/metrics/_classification.py:1565: UndefinedMetricWarning: Precision is ill-defined and being set to 0.0 in labels with no predicted samples. Use `zero_division` parameter to control this behavior.\n",
            "  _warn_prf(average, modifier, f\"{metric.capitalize()} is\", len(result))\n",
            "/usr/local/lib/python3.11/dist-packages/sklearn/metrics/_classification.py:1565: UndefinedMetricWarning: Precision is ill-defined and being set to 0.0 in labels with no predicted samples. Use `zero_division` parameter to control this behavior.\n",
            "  _warn_prf(average, modifier, f\"{metric.capitalize()} is\", len(result))\n",
            "/usr/local/lib/python3.11/dist-packages/sklearn/metrics/_classification.py:1565: UndefinedMetricWarning: Precision is ill-defined and being set to 0.0 in labels with no predicted samples. Use `zero_division` parameter to control this behavior.\n",
            "  _warn_prf(average, modifier, f\"{metric.capitalize()} is\", len(result))\n",
            "/usr/local/lib/python3.11/dist-packages/sklearn/metrics/_classification.py:1565: UndefinedMetricWarning: Precision is ill-defined and being set to 0.0 in labels with no predicted samples. Use `zero_division` parameter to control this behavior.\n",
            "  _warn_prf(average, modifier, f\"{metric.capitalize()} is\", len(result))\n",
            "/usr/local/lib/python3.11/dist-packages/sklearn/metrics/_classification.py:1565: UndefinedMetricWarning: Precision is ill-defined and being set to 0.0 in labels with no predicted samples. Use `zero_division` parameter to control this behavior.\n",
            "  _warn_prf(average, modifier, f\"{metric.capitalize()} is\", len(result))\n",
            "/usr/local/lib/python3.11/dist-packages/sklearn/metrics/_classification.py:1565: UndefinedMetricWarning: Precision is ill-defined and being set to 0.0 in labels with no predicted samples. Use `zero_division` parameter to control this behavior.\n",
            "  _warn_prf(average, modifier, f\"{metric.capitalize()} is\", len(result))\n"
          ]
        },
        {
          "output_type": "stream",
          "name": "stdout",
          "text": [
            "\n",
            "Model: SVM\n",
            "Accuracy: 0.9736337488015341\n",
            "              precision    recall  f1-score   support\n",
            "\n",
            "           1       0.98      0.99      0.98      1723\n",
            "           2       0.00      0.00      0.00         2\n",
            "           3       0.94      0.91      0.93       361\n",
            "\n",
            "    accuracy                           0.97      2086\n",
            "   macro avg       0.64      0.63      0.64      2086\n",
            "weighted avg       0.97      0.97      0.97      2086\n",
            "\n"
          ]
        },
        {
          "output_type": "stream",
          "name": "stderr",
          "text": [
            "/usr/local/lib/python3.11/dist-packages/sklearn/metrics/_classification.py:1565: UndefinedMetricWarning: Precision is ill-defined and being set to 0.0 in labels with no predicted samples. Use `zero_division` parameter to control this behavior.\n",
            "  _warn_prf(average, modifier, f\"{metric.capitalize()} is\", len(result))\n",
            "/usr/local/lib/python3.11/dist-packages/sklearn/metrics/_classification.py:1565: UndefinedMetricWarning: Precision is ill-defined and being set to 0.0 in labels with no predicted samples. Use `zero_division` parameter to control this behavior.\n",
            "  _warn_prf(average, modifier, f\"{metric.capitalize()} is\", len(result))\n",
            "/usr/local/lib/python3.11/dist-packages/sklearn/metrics/_classification.py:1565: UndefinedMetricWarning: Precision is ill-defined and being set to 0.0 in labels with no predicted samples. Use `zero_division` parameter to control this behavior.\n",
            "  _warn_prf(average, modifier, f\"{metric.capitalize()} is\", len(result))\n"
          ]
        }
      ]
    },
    {
      "cell_type": "code",
      "source": [
        "import tensorflow as tf\n",
        "from tensorflow.keras.models import Sequential\n",
        "from tensorflow.keras.layers import Embedding, LSTM, Dense, Dropout\n",
        "from tensorflow.keras.preprocessing.text import Tokenizer\n",
        "from tensorflow.keras.preprocessing.sequence import pad_sequences\n",
        "\n",
        "# Tokenizing text\n",
        "tokenizer = Tokenizer(num_words=5000)\n",
        "tokenizer.fit_on_texts(df['clean_complaint'])\n",
        "X_seq = tokenizer.texts_to_sequences(df['clean_complaint'])\n",
        "X_padded = pad_sequences(X_seq, maxlen=100)\n",
        "\n",
        "# Train-test split\n",
        "X_train, X_test, y_train, y_test = train_test_split(X_padded, y, test_size=0.2, random_state=42, stratify=y)\n",
        "\n",
        "# Building LSTM model\n",
        "model = Sequential([\n",
        "    Embedding(input_dim=5000, output_dim=64, input_length=100),\n",
        "    LSTM(128, return_sequences=True),\n",
        "    LSTM(64),\n",
        "    Dropout(0.3),\n",
        "    Dense(32, activation='relu'),\n",
        "    Dense(4, activation='softmax')\n",
        "])\n",
        "\n",
        "model.compile(loss='sparse_categorical_crossentropy', optimizer='adam', metrics=['accuracy'])\n",
        "\n",
        "# Training model\n",
        "model.fit(X_train, y_train, validation_data=(X_test, y_test), epochs=5, batch_size=32)\n",
        "\n",
        "# Evaluating model\n",
        "y_pred = model.predict(X_test)\n",
        "y_pred_classes = y_pred.argmax(axis=1)\n",
        "\n",
        "print(\"\\nLSTM Model Evaluation:\")\n",
        "print(\"Accuracy:\", accuracy_score(y_test, y_pred_classes))\n",
        "print(classification_report(y_test, y_pred_classes))\n"
      ],
      "metadata": {
        "colab": {
          "base_uri": "https://localhost:8080/"
        },
        "id": "K042nySSfsT-",
        "outputId": "29c87fad-5383-4929-d378-0666d3a7cd5b"
      },
      "execution_count": 11,
      "outputs": [
        {
          "output_type": "stream",
          "name": "stderr",
          "text": [
            "/usr/local/lib/python3.11/dist-packages/keras/src/layers/core/embedding.py:90: UserWarning: Argument `input_length` is deprecated. Just remove it.\n",
            "  warnings.warn(\n"
          ]
        },
        {
          "output_type": "stream",
          "name": "stdout",
          "text": [
            "Epoch 1/5\n",
            "\u001b[1m261/261\u001b[0m \u001b[32m━━━━━━━━━━━━━━━━━━━━\u001b[0m\u001b[37m\u001b[0m \u001b[1m79s\u001b[0m 279ms/step - accuracy: 0.8250 - loss: 0.5914 - val_accuracy: 0.9319 - val_loss: 0.1876\n",
            "Epoch 2/5\n",
            "\u001b[1m261/261\u001b[0m \u001b[32m━━━━━━━━━━━━━━━━━━━━\u001b[0m\u001b[37m\u001b[0m \u001b[1m75s\u001b[0m 288ms/step - accuracy: 0.9604 - loss: 0.1287 - val_accuracy: 0.9607 - val_loss: 0.1243\n",
            "Epoch 3/5\n",
            "\u001b[1m261/261\u001b[0m \u001b[32m━━━━━━━━━━━━━━━━━━━━\u001b[0m\u001b[37m\u001b[0m \u001b[1m77s\u001b[0m 268ms/step - accuracy: 0.9748 - loss: 0.0855 - val_accuracy: 0.9664 - val_loss: 0.1030\n",
            "Epoch 4/5\n",
            "\u001b[1m261/261\u001b[0m \u001b[32m━━━━━━━━━━━━━━━━━━━━\u001b[0m\u001b[37m\u001b[0m \u001b[1m82s\u001b[0m 268ms/step - accuracy: 0.9870 - loss: 0.0487 - val_accuracy: 0.9674 - val_loss: 0.1120\n",
            "Epoch 5/5\n",
            "\u001b[1m261/261\u001b[0m \u001b[32m━━━━━━━━━━━━━━━━━━━━\u001b[0m\u001b[37m\u001b[0m \u001b[1m85s\u001b[0m 281ms/step - accuracy: 0.9935 - loss: 0.0317 - val_accuracy: 0.9669 - val_loss: 0.1217\n",
            "\u001b[1m66/66\u001b[0m \u001b[32m━━━━━━━━━━━━━━━━━━━━\u001b[0m\u001b[37m\u001b[0m \u001b[1m5s\u001b[0m 76ms/step\n",
            "\n",
            "LSTM Model Evaluation:\n",
            "Accuracy: 0.9669223394055608\n",
            "              precision    recall  f1-score   support\n",
            "\n",
            "           1       0.99      0.97      0.98      1723\n",
            "           2       0.00      0.00      0.00         2\n",
            "           3       0.88      0.94      0.91       361\n",
            "\n",
            "    accuracy                           0.97      2086\n",
            "   macro avg       0.62      0.64      0.63      2086\n",
            "weighted avg       0.97      0.97      0.97      2086\n",
            "\n"
          ]
        },
        {
          "output_type": "stream",
          "name": "stderr",
          "text": [
            "/usr/local/lib/python3.11/dist-packages/sklearn/metrics/_classification.py:1565: UndefinedMetricWarning: Precision is ill-defined and being set to 0.0 in labels with no predicted samples. Use `zero_division` parameter to control this behavior.\n",
            "  _warn_prf(average, modifier, f\"{metric.capitalize()} is\", len(result))\n",
            "/usr/local/lib/python3.11/dist-packages/sklearn/metrics/_classification.py:1565: UndefinedMetricWarning: Precision is ill-defined and being set to 0.0 in labels with no predicted samples. Use `zero_division` parameter to control this behavior.\n",
            "  _warn_prf(average, modifier, f\"{metric.capitalize()} is\", len(result))\n",
            "/usr/local/lib/python3.11/dist-packages/sklearn/metrics/_classification.py:1565: UndefinedMetricWarning: Precision is ill-defined and being set to 0.0 in labels with no predicted samples. Use `zero_division` parameter to control this behavior.\n",
            "  _warn_prf(average, modifier, f\"{metric.capitalize()} is\", len(result))\n"
          ]
        }
      ]
    },
    {
      "cell_type": "code",
      "source": [
        "from sklearn.metrics import confusion_matrix\n",
        "import seaborn as sns\n",
        "\n",
        "# Confusion Matrix\n",
        "conf_matrix = confusion_matrix(y_test, y_pred_classes)\n",
        "sns.heatmap(conf_matrix, annot=True, cmap=\"Blues\", fmt=\"d\")\n",
        "plt.xlabel(\"Predicted Label\")\n",
        "plt.ylabel(\"True Label\")\n",
        "plt.title(\"Confusion Matrix\")\n",
        "plt.show()\n"
      ],
      "metadata": {
        "colab": {
          "base_uri": "https://localhost:8080/",
          "height": 472
        },
        "id": "f5A6xdXwhZIK",
        "outputId": "a33ce15a-803f-4772-eee6-e6c7f8c2ba21"
      },
      "execution_count": 12,
      "outputs": [
        {
          "output_type": "display_data",
          "data": {
            "text/plain": [
              "<Figure size 640x480 with 2 Axes>"
            ],
            "image/png": "[encoded data removed]"
          },
          "metadata": {}
        }
      ]
    },
    {
      "cell_type": "code",
      "source": [
        "def predict_category(text):\n",
        "    processed_text = preprocess_text(text)\n",
        "    vectorized_text = vectorizer.transform([processed_text])\n",
        "    prediction = models[\"Logistic Regression\"].predict(vectorized_text)\n",
        "\n",
        "    category_map = {0: \"Credit reporting\", 1: \"Debt collection\", 2: \"Consumer Loan\", 3: \"Mortgage\"}\n",
        "    return category_map[prediction[0]]\n",
        "\n",
        "# Example\n",
        "print(predict_category(\"My credit report has an error, and they won't fix it.\"))\n"
      ],
      "metadata": {
        "colab": {
          "base_uri": "https://localhost:8080/"
        },
        "id": "vz-XgKdqhbSO",
        "outputId": "8e15decf-376e-415a-cfa1-b588ea34ede9"
      },
      "execution_count": 13,
      "outputs": [
        {
          "output_type": "stream",
          "name": "stdout",
          "text": [
            "Debt collection\n"
          ]
        }
      ]
    }
  ],
  "metadata": {
    "colab": {
      "toc_visible": true,
      "provenance": []
    },
    "kernelspec": {
      "display_name": "Python 3",
      "name": "python3"
    }
  },
  "nbformat": 4,
  "nbformat_minor": 0
}